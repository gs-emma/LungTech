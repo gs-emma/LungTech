{
 "cells": [
  {
   "cell_type": "code",
   "execution_count": 1,
   "id": "efef538c",
   "metadata": {},
   "outputs": [],
   "source": [
    "from tensorflow import keras\n",
    "from tensorflow.keras.layers import Activation, Dense, Dropout, Conv2D, Flatten, MaxPooling2D, AveragePooling2D, Input\n",
    "from tensorflow.keras.models import Model, Sequential, save_model, load_model\n",
    "from sklearn.metrics import roc_curve, roc_auc_score\n",
    "\n",
    "from tensorflow.keras.applications.vgg16 import VGG16\n",
    "\n",
    "from keras.utils import np_utils\n",
    "\n",
    "import librosa\n",
    "import librosa.display\n",
    "import numpy as np\n",
    "import pandas as pd\n",
    "import random\n",
    "import os\n",
    "\n",
    "import matplotlib.pyplot as plt\n",
    "\n",
    "import pickle"
   ]
  },
  {
   "cell_type": "code",
   "execution_count": 3,
   "id": "f5226b38",
   "metadata": {},
   "outputs": [],
   "source": [
    "def plot_history(history, yrange):\n",
    "    \n",
    "    acc = history.history['accuracy']\n",
    "    val_acc = history.history['val_accuracy']\n",
    "    loss = history.history['loss']\n",
    "    val_loss = history.history['val_loss']\n",
    "\n",
    "    epochs = range(len(acc))\n",
    "\n",
    "    plt.plot(epochs, acc)\n",
    "    plt.plot(epochs, val_acc)\n",
    "    plt.title('Training and validation accuracy')\n",
    "    plt.ylim(yrange)\n",
    "    plt.legend(['train', 'test'], loc='upper left')\n",
    "    \n",
    "    plt.figure()\n",
    "\n",
    "    plt.plot(epochs, loss)\n",
    "    plt.plot(epochs, val_loss)\n",
    "    plt.title('Training and validation loss')\n",
    "    plt.legend(['train', 'test'], loc='upper left')\n",
    "    plt.show()"
   ]
  },
  {
   "cell_type": "code",
   "execution_count": 2,
   "id": "4689b9c1",
   "metadata": {},
   "outputs": [],
   "source": [
    "fh = open('/Users/home/Documents/Respiratory Illness AI/datasets/copd_asthma_224_224_3', 'rb')\n",
    "dataset = pickle.load(fh)"
   ]
  },
  {
   "cell_type": "code",
   "execution_count": 4,
   "id": "af2f12d3",
   "metadata": {},
   "outputs": [],
   "source": [
    "input_shape = (224, 224, 3)"
   ]
  },
  {
   "cell_type": "code",
   "execution_count": 5,
   "id": "6e9225ca",
   "metadata": {},
   "outputs": [],
   "source": [
    "# random.shuffle(dataset)\n",
    "train = dataset[:130]\n",
    "val = dataset[130:170]\n",
    "# test = dataset[165:]\n",
    "\n",
    "X_train, y_train = zip(*train)\n",
    "X_val, y_val = zip(*val)\n",
    "# X_test, y_test = zip(*test)\n",
    "\n",
    "X_train = np.array([x.reshape(input_shape) for x in X_train])\n",
    "X_val = np.array([x.reshape(input_shape) for x in X_val])\n",
    "# X_test = np.array([x.reshape(input_shape) for x in X_test])\n",
    "\n",
    "y_train = np.array(np_utils.to_categorical(y_train, 2))\n",
    "y_val = np.array(np_utils.to_categorical(y_val, 2))\n",
    "# y_test = np.array(np_utils.to_categorical(y_test, 2))"
   ]
  },
  {
   "cell_type": "code",
   "execution_count": 6,
   "id": "895fe99e",
   "metadata": {},
   "outputs": [],
   "source": [
    "dropout_rates = [0.5, 0.6, 0.7, 0.8]\n",
    "activations = ['relu', 'sigmoid']"
   ]
  },
  {
   "cell_type": "code",
   "execution_count": 8,
   "id": "2c494b0c",
   "metadata": {},
   "outputs": [],
   "source": [
    "baseModel = VGG16(weights=None, include_top=False, input_shape=input_shape)\n",
    "\n",
    "headModel = baseModel.output\n",
    "headModel = AveragePooling2D(pool_size=(2, 2))(headModel)\n",
    "headModel = Flatten(name=\"flatten\")(headModel)\n",
    "\n",
    "headModel = Dense(512, activation='relu')(headModel)\n",
    "headModel = Dropout(0.5)(headModel)\n",
    "\n",
    "headModel = Dense(512, activation='relu')(headModel)\n",
    "headModel = Dropout(0.5)(headModel)\n",
    "\n",
    "headModel = Dense(512, activation='relu')(headModel)\n",
    "headModel = Dropout(0.5)(headModel)\n",
    "\n",
    "headModel = Dense(2, activation=\"softmax\")(headModel)\n",
    "\n",
    "model = Model(inputs=baseModel.input, outputs=headModel)\n",
    "\n",
    "for layer in baseModel.layers:\n",
    "    layer.trainable = False"
   ]
  },
  {
   "cell_type": "code",
   "execution_count": 9,
   "id": "0671cde5",
   "metadata": {},
   "outputs": [
    {
     "name": "stderr",
     "output_type": "stream",
     "text": [
      "2022-02-09 17:33:18.947960: I tensorflow/compiler/mlir/mlir_graph_optimization_pass.cc:185] None of the MLIR Optimization Passes are enabled (registered 2)\n"
     ]
    },
    {
     "name": "stdout",
     "output_type": "stream",
     "text": [
      "Epoch 1/25\n",
      "9/9 [==============================] - 45s 5s/step - loss: 0.6729 - accuracy: 0.4922 - val_loss: 0.6763 - val_accuracy: 0.5476\n",
      "Epoch 2/25\n",
      "9/9 [==============================] - 42s 5s/step - loss: 0.6508 - accuracy: 0.5625 - val_loss: 0.6831 - val_accuracy: 0.5952\n",
      "Epoch 3/25\n",
      "9/9 [==============================] - 42s 5s/step - loss: 0.6787 - accuracy: 0.5938 - val_loss: 0.6062 - val_accuracy: 0.5714\n",
      "Epoch 4/25\n",
      "9/9 [==============================] - 40s 5s/step - loss: 0.7163 - accuracy: 0.5312 - val_loss: 0.5740 - val_accuracy: 0.7381\n",
      "Epoch 5/25\n",
      "9/9 [==============================] - 38s 4s/step - loss: 0.6030 - accuracy: 0.6250 - val_loss: 0.5624 - val_accuracy: 0.6190\n",
      "Epoch 6/25\n",
      "9/9 [==============================] - 39s 4s/step - loss: 0.6526 - accuracy: 0.6094 - val_loss: 0.5573 - val_accuracy: 0.8333\n",
      "Epoch 7/25\n",
      "9/9 [==============================] - 41s 5s/step - loss: 0.6157 - accuracy: 0.6719 - val_loss: 0.5145 - val_accuracy: 0.7381\n",
      "Epoch 8/25\n",
      "9/9 [==============================] - 41s 5s/step - loss: 0.5891 - accuracy: 0.6797 - val_loss: 0.4914 - val_accuracy: 0.8095\n",
      "Epoch 9/25\n",
      "9/9 [==============================] - 38s 4s/step - loss: 0.5795 - accuracy: 0.6953 - val_loss: 0.4758 - val_accuracy: 0.7619\n",
      "Epoch 10/25\n",
      "9/9 [==============================] - 38s 4s/step - loss: 0.5675 - accuracy: 0.7109 - val_loss: 0.4527 - val_accuracy: 0.8571\n",
      "Epoch 11/25\n",
      "9/9 [==============================] - 37s 4s/step - loss: 0.5146 - accuracy: 0.7734 - val_loss: 0.4306 - val_accuracy: 0.8333\n",
      "Epoch 12/25\n",
      "9/9 [==============================] - 38s 4s/step - loss: 0.5144 - accuracy: 0.7578 - val_loss: 0.4304 - val_accuracy: 0.7381\n",
      "Epoch 13/25\n",
      "9/9 [==============================] - 37s 4s/step - loss: 0.5377 - accuracy: 0.7109 - val_loss: 0.4255 - val_accuracy: 0.8571\n",
      "Epoch 14/25\n",
      "9/9 [==============================] - 38s 4s/step - loss: 0.5271 - accuracy: 0.7656 - val_loss: 0.3937 - val_accuracy: 0.8571\n",
      "Epoch 15/25\n",
      "9/9 [==============================] - 43s 5s/step - loss: 0.4713 - accuracy: 0.7734 - val_loss: 0.3854 - val_accuracy: 0.8571\n",
      "Epoch 16/25\n",
      "9/9 [==============================] - 38s 4s/step - loss: 0.4337 - accuracy: 0.7891 - val_loss: 0.3751 - val_accuracy: 0.8571\n",
      "Epoch 17/25\n",
      "9/9 [==============================] - 39s 4s/step - loss: 0.4788 - accuracy: 0.7812 - val_loss: 0.3544 - val_accuracy: 0.8810\n",
      "Epoch 18/25\n",
      "9/9 [==============================] - 42s 5s/step - loss: 0.4378 - accuracy: 0.7969 - val_loss: 0.3681 - val_accuracy: 0.8571\n",
      "Epoch 19/25\n",
      "9/9 [==============================] - 41s 5s/step - loss: 0.5432 - accuracy: 0.7656 - val_loss: 0.3789 - val_accuracy: 0.8333\n",
      "Epoch 20/25\n",
      "9/9 [==============================] - 40s 5s/step - loss: 0.4612 - accuracy: 0.7969 - val_loss: 0.3439 - val_accuracy: 0.8810\n",
      "Epoch 21/25\n",
      "9/9 [==============================] - 43s 5s/step - loss: 0.4582 - accuracy: 0.8125 - val_loss: 0.3397 - val_accuracy: 0.8810\n",
      "Epoch 22/25\n",
      "9/9 [==============================] - 43s 5s/step - loss: 0.4147 - accuracy: 0.8047 - val_loss: 0.3587 - val_accuracy: 0.8810\n",
      "Epoch 23/25\n",
      "9/9 [==============================] - 42s 5s/step - loss: 0.5290 - accuracy: 0.7500 - val_loss: 0.3571 - val_accuracy: 0.8810\n",
      "Epoch 24/25\n",
      "9/9 [==============================] - 41s 5s/step - loss: 0.3985 - accuracy: 0.8438 - val_loss: 0.3373 - val_accuracy: 0.9048\n",
      "Epoch 25/25\n",
      "9/9 [==============================] - 39s 5s/step - loss: 0.4122 - accuracy: 0.8203 - val_loss: 0.3347 - val_accuracy: 0.8810\n"
     ]
    }
   ],
   "source": [
    "model.compile(optimizer=\"adam\", \n",
    "              loss='categorical_crossentropy', \n",
    "              metrics=['accuracy'])\n",
    "\n",
    "history = model.fit(x=X_train,\n",
    "          y=y_train,\n",
    "          epochs=25,\n",
    "          batch_size=15,\n",
    "          validation_data=(X_val, y_val))"
   ]
  },
  {
   "cell_type": "code",
   "execution_count": 10,
   "id": "72e2efa6",
   "metadata": {},
   "outputs": [
    {
     "name": "stdout",
     "output_type": "stream",
     "text": [
      "2/2 [==============================] - 11s 2s/step - loss: 0.3347 - accuracy: 0.8810\n",
      "Test loss: 0.3346642255783081\n",
      "Test accuracy: 0.8809523582458496\n"
     ]
    }
   ],
   "source": [
    "score = model.evaluate(x=X_val,\n",
    "                     y=y_val)\n",
    "\n",
    "print('Test loss:', score[0])\n",
    "print('Test accuracy:', score[1])"
   ]
  },
  {
   "cell_type": "code",
   "execution_count": 11,
   "id": "fc85a1b4",
   "metadata": {},
   "outputs": [
    {
     "data": {
      "image/png": "[encoded data removed]",
      "text/plain": [
       "<Figure size 432x288 with 1 Axes>"
      ]
     },
     "metadata": {
      "needs_background": "light"
     },
     "output_type": "display_data"
    },
    {
     "data": {
      "image/png": "[encoded data removed]",
      "text/plain": [
       "<Figure size 432x288 with 1 Axes>"
      ]
     },
     "metadata": {
      "needs_background": "light"
     },
     "output_type": "display_data"
    }
   ],
   "source": [
    "plot_history(history, (0.5, 1))"
   ]
  },
  {
   "cell_type": "code",
   "execution_count": 12,
   "id": "dad8d46d",
   "metadata": {},
   "outputs": [
    {
     "name": "stdout",
     "output_type": "stream",
     "text": [
      "roc_auc_score:  0.9336384439359268\n"
     ]
    }
   ],
   "source": [
    "y_score = model.predict(X_val)\n",
    "# false_positive_rate, true_positive_rate, threshold = roc_curve(y_val, y_score)\n",
    "print('roc_auc_score: ', roc_auc_score(y_val, y_score))"
   ]
  },
  {
   "cell_type": "code",
   "execution_count": 13,
   "id": "26cc392c",
   "metadata": {},
   "outputs": [
    {
     "name": "stderr",
     "output_type": "stream",
     "text": [
      "2022-02-09 17:51:35.189574: W tensorflow/python/util/util.cc:348] Sets are not currently considered sequences, but this may change in the future, so consider avoiding using them.\n"
     ]
    },
    {
     "name": "stdout",
     "output_type": "stream",
     "text": [
      "INFO:tensorflow:Assets written to: VGG16_88-3/assets\n"
     ]
    }
   ],
   "source": [
    "save_model(model, \n",
    "           'VGG16_88-3', \n",
    "           overwrite=True, \n",
    "           include_optimizer=True, \n",
    "           save_format=None, \n",
    "           signatures=None, options=None, save_traces=True)"
   ]
  },
  {
   "cell_type": "code",
   "execution_count": null,
   "id": "54c976c4",
   "metadata": {},
   "outputs": [],
   "source": []
  }
 ],
 "metadata": {
  "kernelspec": {
   "display_name": "Python 3 (ipykernel)",
   "language": "python",
   "name": "python3"
  },
  "language_info": {
   "codemirror_mode": {
    "name": "ipython",
    "version": 3
   },
   "file_extension": ".py",
   "mimetype": "text/x-python",
   "name": "python",
   "nbconvert_exporter": "python",
   "pygments_lexer": "ipython3",
   "version": "3.8.8"
  }
 },
 "nbformat": 4,
 "nbformat_minor": 5
}
