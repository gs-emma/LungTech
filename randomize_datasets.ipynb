{
 "cells": [
  {
   "cell_type": "code",
   "execution_count": 2,
   "id": "6e1a66c4",
   "metadata": {},
   "outputs": [],
   "source": [
    "import random\n",
    "import pickle"
   ]
  },
  {
   "cell_type": "code",
   "execution_count": 3,
   "id": "0cff6c7d",
   "metadata": {},
   "outputs": [],
   "source": [
    "fh = open(\"/Users/home/Documents/Respiratory Illness AI/asthma_others_224_224_3\", 'rb')\n",
    "dataset1 = pickle.load(fh)"
   ]
  },
  {
   "cell_type": "code",
   "execution_count": 4,
   "id": "616f2806",
   "metadata": {},
   "outputs": [],
   "source": [
    "fh = open(\"/Users/home/Documents/Respiratory Illness AI/copd_others_224_224_3\", 'rb')\n",
    "dataset2 = pickle.load(fh)"
   ]
  },
  {
   "cell_type": "code",
   "execution_count": 5,
   "id": "e4bdf25e",
   "metadata": {},
   "outputs": [],
   "source": [
    "fh = open(\"/Users/home/Documents/Respiratory Illness AI/covid_others_224_224_3\", 'rb')\n",
    "dataset3 = pickle.load(fh)"
   ]
  },
  {
   "cell_type": "code",
   "execution_count": 6,
   "id": "5cd8f548",
   "metadata": {},
   "outputs": [],
   "source": [
    "fh = open(\"/Users/home/Documents/Respiratory Illness AI/healthy_others_224_224_3\", 'rb')\n",
    "dataset4 = pickle.load(fh)"
   ]
  },
  {
   "cell_type": "code",
   "execution_count": 21,
   "id": "50c178b2",
   "metadata": {},
   "outputs": [],
   "source": [
    "fh = open(\"/Users/ashley/datasets/copd_healthy/nonrandomized/copd_healthy_229_229_3\", 'rb')\n",
    "dataset5 = pickle.load(fh)"
   ]
  },
  {
   "cell_type": "code",
   "execution_count": 7,
   "id": "7ebe2204",
   "metadata": {},
   "outputs": [],
   "source": [
    "lst = [dataset1, dataset2, dataset3, dataset4]\n",
    "file_names = ['asthma_others', 'copd_others', 'covid_others', 'healthy_others']\n",
    "\n",
    "for i in range (len(lst)):\n",
    "    dataset = lst[i]\n",
    "    random.shuffle(dataset)\n",
    "    melspec_dataset = open(f\"/Users/home/Documents/Respiratory Illness AI/datasets/{file_names[i]}_224_224_3\", 'wb')\n",
    "    pickle.dump(dataset, melspec_dataset)\n",
    "    melspec_dataset.close()"
   ]
  },
  {
   "cell_type": "code",
   "execution_count": null,
   "id": "23aea328",
   "metadata": {},
   "outputs": [],
   "source": []
  }
 ],
 "metadata": {
  "kernelspec": {
   "display_name": "Python 3 (ipykernel)",
   "language": "python",
   "name": "python3"
  },
  "language_info": {
   "codemirror_mode": {
    "name": "ipython",
    "version": 3
   },
   "file_extension": ".py",
   "mimetype": "text/x-python",
   "name": "python",
   "nbconvert_exporter": "python",
   "pygments_lexer": "ipython3",
   "version": "3.8.8"
  }
 },
 "nbformat": 4,
 "nbformat_minor": 5
}
