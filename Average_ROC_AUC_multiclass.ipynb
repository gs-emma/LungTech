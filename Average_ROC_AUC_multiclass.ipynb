{
 "cells": [
  {
   "cell_type": "code",
   "execution_count": 1,
   "id": "4776d5a8",
   "metadata": {},
   "outputs": [],
   "source": [
    "from tensorflow import keras\n",
    "from tensorflow.keras.models import load_model\n",
    "import pickle\n",
    "\n",
    "from sklearn.metrics import roc_curve, roc_auc_score, confusion_matrix, auc\n",
    "from sklearn.metrics import accuracy_score, precision_score, recall_score, f1_score\n",
    "from sklearn.metrics import multilabel_confusion_matrix\n",
    "from sklearn.metrics import classification_report\n",
    "from sklearn.metrics import RocCurveDisplay\n",
    "from scipy import interp\n",
    "from sklearn.model_selection import StratifiedKFold\n",
    "\n",
    "import numpy as np\n",
    "from keras.utils import np_utils\n",
    "import matplotlib.pyplot as plt\n",
    "import seaborn as sns\n",
    "from itertools import cycle\n",
    "import pandas as pd\n",
    "import glob \n",
    "import os "
   ]
  },
  {
   "cell_type": "code",
   "execution_count": 2,
   "id": "7c5fb75c",
   "metadata": {},
   "outputs": [],
   "source": [
    "models = glob.glob('/Users/home/Documents/Respiratory Illness AI/k_fold/0_run/*/')"
   ]
  },
  {
   "cell_type": "code",
   "execution_count": 3,
   "id": "3d825001",
   "metadata": {},
   "outputs": [],
   "source": [
    "fh = open(\"/Users/home/Documents/Respiratory Illness AI/datasets/official_datasets/asthma_copd_covid_healthy_224_224_3\", 'rb')\n",
    "dataset = pickle.load(fh)"
   ]
  },
  {
   "cell_type": "code",
   "execution_count": 8,
   "id": "d00b1eff",
   "metadata": {},
   "outputs": [],
   "source": [
    "def train_val(dataset):\n",
    "    input_shape = (224, 224, 3)\n",
    "    train = dataset[:278]\n",
    "    val = dataset[278:]\n",
    "    #278 - 5, 261 - 4\n",
    "    #130 - 4, 139 - 5\n",
    "\n",
    "    X_train, y_train = zip(*train)\n",
    "    X_val, y_val = zip(*val)\n",
    "\n",
    "    X_train = np.array([x.reshape(input_shape) for x in X_train])\n",
    "    X_val = np.array([x.reshape(input_shape) for x in X_val])\n",
    "\n",
    "    y_train = np.array(np_utils.to_categorical(y_train, 4))\n",
    "    y_val = np.array(np_utils.to_categorical(y_val, 4))\n",
    "    \n",
    "    return X_val, y_val "
   ]
  },
  {
   "cell_type": "code",
   "execution_count": 5,
   "id": "af9917c3",
   "metadata": {},
   "outputs": [],
   "source": [
    "def get_auc_values(y_val, y_score):\n",
    "    fpr, tpr, roc_auc, thresholds = {}, {}, {}, {}\n",
    "    \n",
    "    for i in range(4):\n",
    "        fpr[i], tpr[i], thresholds[i] = roc_curve(y_val[:,i], y_score[:,i], drop_intermediate=False)\n",
    "        # maybe change to roc_auc_score\n",
    "        roc_auc[i] = auc(fpr[i], tpr[i])\n",
    "        \n",
    "    return fpr, tpr, roc_auc "
   ]
  },
  {
   "cell_type": "code",
   "execution_count": 12,
   "id": "0fca91ad",
   "metadata": {},
   "outputs": [],
   "source": [
    "def reorder_list(lst):\n",
    "    new = []\n",
    "    \n",
    "    for i in range(len(lst[0])):\n",
    "        temp = []\n",
    "        for group in lst: \n",
    "            temp.append(group[i])\n",
    "        new.append(temp)\n",
    "    \n",
    "    return new "
   ]
  },
  {
   "cell_type": "code",
   "execution_count": 14,
   "id": "69a63d4a",
   "metadata": {},
   "outputs": [],
   "source": [
    "def graph_rocs(tprs, fprs, aucs):\n",
    "    colors = cycle([\"aqua\", \"darkorange\", \"darkgreen\", \"yellow\"])\n",
    "    diseases = [\"healthy\", \"asthma\", \"copd\", \"covid\"]\n",
    "    lw = 2\n",
    "    \n",
    "    plt.figure(figsize=(5, 5))\n",
    "    plt.axes().set_aspect('equal', 'datalim')\n",
    "    \n",
    "    for i, colour in zip(range(4), colors):\n",
    "        mean_tpr = np.mean(tprs[i], axis=0)\n",
    "        mean_tpr[-1] = 1.0\n",
    "        # change denominator depending on kfold \n",
    "        mean_auc = sum(aucs[i])/5\n",
    "        print(mean_auc)\n",
    "        plt.plot(fpr[i], mean_tpr, color=colour,\n",
    "         label=f'ROC class {diseases[i]} (AUC = {round(mean_auc, 2)})',lw=2, alpha=1)\n",
    "\n",
    "    plt.plot([0,1],[0,1],linestyle = '--',lw = 2,color = 'black')\n",
    "    plt.xlim([-0.01, 1.01])\n",
    "    plt.ylim([-0.01, 1.01])\n",
    "    plt.ylabel('True Positive Rate')\n",
    "    plt.xlabel('False Positive Rate')\n",
    "    plt.legend()\n",
    "    plt.show()"
   ]
  },
  {
   "cell_type": "code",
   "execution_count": 15,
   "id": "5c6afead",
   "metadata": {},
   "outputs": [
    {
     "name": "stdout",
     "output_type": "stream",
     "text": [
      "0.781439393939394\n",
      "0.6706018518518518\n",
      "0.951851851851852\n",
      "0.695138888888889\n"
     ]
    },
    {
     "data": {
      "image/png": "[encoded data removed]",
      "text/plain": [
       "<Figure size 360x360 with 1 Axes>"
      ]
     },
     "metadata": {
      "needs_background": "light"
     },
     "output_type": "display_data"
    }
   ],
   "source": [
    "tprs, fprs, roc_aucs = [], [], []\n",
    "\n",
    "for i in models:\n",
    "    model = load_model(i, compile = True)\n",
    "    X_val, y_val = train_val(dataset)\n",
    "    y_score = model.predict(X_val)\n",
    "    fpr, tpr, roc_auc = get_auc_values(y_val, y_score)\n",
    "    \n",
    "    tprs.append(tpr)\n",
    "    fprs.append(fpr)\n",
    "    roc_aucs.append(roc_auc)\n",
    "        \n",
    "tprs = reorder_list(tprs)\n",
    "fprs = reorder_list(fprs)\n",
    "roc_aucs = reorder_list(roc_aucs)\n",
    "\n",
    "graph_rocs(tprs, fprs, roc_aucs)"
   ]
  },
  {
   "cell_type": "code",
   "execution_count": null,
   "id": "f421ad1e",
   "metadata": {},
   "outputs": [],
   "source": []
  }
 ],
 "metadata": {
  "kernelspec": {
   "display_name": "Python 3 (ipykernel)",
   "language": "python",
   "name": "python3"
  },
  "language_info": {
   "codemirror_mode": {
    "name": "ipython",
    "version": 3
   },
   "file_extension": ".py",
   "mimetype": "text/x-python",
   "name": "python",
   "nbconvert_exporter": "python",
   "pygments_lexer": "ipython3",
   "version": "3.8.8"
  }
 },
 "nbformat": 4,
 "nbformat_minor": 5
}
